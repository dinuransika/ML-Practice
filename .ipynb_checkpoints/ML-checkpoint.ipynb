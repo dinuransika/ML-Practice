{
 "cells": [
  {
   "cell_type": "code",
   "execution_count": 2,
   "metadata": {},
   "outputs": [],
   "source": [
    "import numpy as np\n",
    "import matplotlib.pyplot as plt"
   ]
  },
  {
   "cell_type": "code",
   "execution_count": null,
   "metadata": {},
   "outputs": [],
   "source": [
    "#!/bin/python3\n",
    "\n",
    "import math\n",
    "import os\n",
    "import random\n",
    "import re\n",
    "import sys\n",
    "\n",
    "# Complete the maxSubarray function below.\n",
    "def maxSubarray(arr):\n",
    "    a = [i for i in arr if i>=0]\n",
    "    if len(arr)==1:\n",
    "        return [sum(arr), sum(arr)]\n",
    "    elif len([i for i in arr if i<0])==0:\n",
    "        return [sum(arr), sum(arr)]\n",
    "    elif a==[]:\n",
    "        return [-1, -1]\n",
    "    else:\n",
    "        l = len(arr)\n",
    "        res = [arr[i: j] for i in range(l) for j in range(i + 1, l + 1)]\n",
    "        #print(res)\n",
    "        return [max([sum(i) for i in res]), sum(a)]\n",
    "\n",
    "if __name__ == '__main__':\n",
    "\n",
    "    t = int(input())\n",
    "\n",
    "    for t_itr in range(t):\n",
    "        n = int(input())\n",
    "\n",
    "        arr = list(map(int, input().rstrip().split()))\n",
    "\n",
    "        result = maxSubarray(arr)\n"
   ]
  }
 ],
 "metadata": {
  "kernelspec": {
   "display_name": "Python 3",
   "language": "python",
   "name": "python3"
  },
  "language_info": {
   "codemirror_mode": {
    "name": "ipython",
    "version": 3
   },
   "file_extension": ".py",
   "mimetype": "text/x-python",
   "name": "python",
   "nbconvert_exporter": "python",
   "pygments_lexer": "ipython3",
   "version": "3.7.4"
  }
 },
 "nbformat": 4,
 "nbformat_minor": 2
}
